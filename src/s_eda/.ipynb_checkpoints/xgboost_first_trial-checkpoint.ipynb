{
 "cells": [
  {
   "cell_type": "code",
   "execution_count": 1,
   "metadata": {
    "scrolled": true
   },
   "outputs": [
    {
     "name": "stderr",
     "output_type": "stream",
     "text": [
      "C:\\Users\\dell-pc\\Anaconda3\\lib\\site-packages\\sklearn\\cross_validation.py:44: DeprecationWarning: This module was deprecated in version 0.18 in favor of the model_selection module into which all the refactored classes and functions are moved. Also note that the interface of the new CV iterators are different from that of this module. This module will be removed in 0.20.\n",
      "  \"This module will be removed in 0.20.\", DeprecationWarning)\n",
      "C:\\Users\\dell-pc\\Anaconda3\\lib\\site-packages\\sklearn\\grid_search.py:43: DeprecationWarning: This module was deprecated in version 0.18 in favor of the model_selection module into which all the refactored classes and functions are moved. This module will be removed in 0.20.\n",
      "  DeprecationWarning)\n",
      "C:\\Users\\dell-pc\\Anaconda3\\lib\\site-packages\\sklearn\\lda.py:6: DeprecationWarning: lda.LDA has been moved to discriminant_analysis.LinearDiscriminantAnalysis in 0.17 and will be removed in 0.19\n",
      "  \"in 0.17 and will be removed in 0.19\", DeprecationWarning)\n",
      "C:\\Users\\dell-pc\\Anaconda3\\lib\\site-packages\\sklearn\\learning_curve.py:23: DeprecationWarning: This module was deprecated in version 0.18 in favor of the model_selection module into which all the functions are moved. This module will be removed in 0.20\n",
      "  DeprecationWarning)\n",
      "C:\\Users\\dell-pc\\Anaconda3\\lib\\site-packages\\sklearn\\qda.py:6: DeprecationWarning: qda.QDA has been moved to discriminant_analysis.QuadraticDiscriminantAnalysis in 0.17 and will be removed in 0.19.\n",
      "  \"in 0.17 and will be removed in 0.19.\", DeprecationWarning)\n"
     ]
    }
   ],
   "source": [
    "from multiprocessing import Pool, cpu_count\n",
    "import gc; gc.enable()\n",
    "import xgboost as xgb\n",
    "import pandas as pd\n",
    "import numpy as np\n",
    "from sklearn import *\n",
    "import sklearn"
   ]
  },
  {
   "cell_type": "code",
   "execution_count": 2,
   "metadata": {},
   "outputs": [
    {
     "name": "stdout",
     "output_type": "stream",
     "text": [
      "user logs merge...\n",
      "members merge...\n"
     ]
    }
   ],
   "source": [
    "# import tables and merge them\n",
    "train = pd.read_csv('../../data/raw/train.csv')\n",
    "test = pd.read_csv('../../data/raw/sample_submission_zero.csv')\n",
    "\n",
    "user_logs = pd.read_csv('../../data/raw/user_logs.csv',nrows=10000000, usecols=['msno'])\n",
    "user_logs = pd.DataFrame(user_logs['msno'].value_counts().reset_index())\n",
    "user_logs.columns = ['msno','logs_count']\n",
    "train = pd.merge(train, user_logs, how='left', on='msno')\n",
    "test = pd.merge(test, user_logs, how='left', on='msno')\n",
    "user_logs = []; print('user logs merge...')\n",
    "\n",
    "members = pd.read_csv('../../data/raw/members.csv')\n",
    "train = pd.merge(train, members, how='left', on='msno')\n",
    "test = pd.merge(test, members, how='left', on='msno')\n",
    "members = []; print('members merge...') "
   ]
  },
  {
   "cell_type": "code",
   "execution_count": 3,
   "metadata": {},
   "outputs": [
    {
     "name": "stdout",
     "output_type": "stream",
     "text": [
      "transaction merge...\n"
     ]
    }
   ],
   "source": [
    "transactions = pd.read_csv('../../data/raw/transactions.csv',nrows=10000000)\n",
    "transactions_train = transactions.loc[transactions.transaction_date < 20170201.]\n",
    "transactions_test = transactions.loc[transactions.transaction_date < 20170301.]\n",
    "transactions_train_c = pd.DataFrame(transactions_train['msno'].value_counts().reset_index())\n",
    "transactions_test_c = pd.DataFrame(transactions_test['msno'].value_counts().reset_index())\n",
    "transactions_train_c.columns = ['msno','trans_count']\n",
    "transactions_test_c.columns = ['msno','trans_count']\n",
    "train = pd.merge(train, transactions_train_c, how='left', on='msno')\n",
    "test = pd.merge(test, transactions_test_c, how='left', on='msno')\n",
    "print('transaction merge...')"
   ]
  },
  {
   "cell_type": "code",
   "execution_count": 4,
   "metadata": {
    "collapsed": true
   },
   "outputs": [],
   "source": [
    "gender = {'male':1, 'female':2}\n",
    "train['gender'] = train['gender'].map(gender)\n",
    "test['gender'] = test['gender'].map(gender)\n",
    "\n",
    "train = train.fillna(0)\n",
    "test = test.fillna(0)"
   ]
  },
  {
   "cell_type": "code",
   "execution_count": 5,
   "metadata": {},
   "outputs": [],
   "source": [
    "# get transaction count\n",
    "transactions_train = transactions_train.sort_values(by=['transaction_date'], ascending=[False]).reset_index(drop=True)\n",
    "transactions_test = transactions_test.sort_values(by=['transaction_date'], ascending=[False]).reset_index(drop=True)\n",
    "transactions_train = transactions_train.drop_duplicates(subset=['msno'], keep='first')\n",
    "transactions_test = transactions_test.drop_duplicates(subset=['msno'], keep='first')\n",
    "\n",
    "train = pd.merge(train, transactions_train, how='left', on='msno')\n",
    "test = pd.merge(test, transactions_test, how='left', on='msno')\n",
    "transactions=[]; transactions_train=[]; transactions_test=[]"
   ]
  },
  {
   "cell_type": "code",
   "execution_count": 6,
   "metadata": {},
   "outputs": [
    {
     "data": {
      "text/html": [
       "<div>\n",
       "<table border=\"1\" class=\"dataframe\">\n",
       "  <thead>\n",
       "    <tr style=\"text-align: right;\">\n",
       "      <th></th>\n",
       "      <th>msno</th>\n",
       "      <th>is_churn</th>\n",
       "      <th>logs_count</th>\n",
       "      <th>city</th>\n",
       "      <th>bd</th>\n",
       "      <th>gender</th>\n",
       "      <th>registered_via</th>\n",
       "      <th>registration_init_time</th>\n",
       "      <th>expiration_date</th>\n",
       "      <th>trans_count</th>\n",
       "      <th>payment_method_id</th>\n",
       "      <th>payment_plan_days</th>\n",
       "      <th>plan_list_price</th>\n",
       "      <th>actual_amount_paid</th>\n",
       "      <th>is_auto_renew</th>\n",
       "      <th>transaction_date</th>\n",
       "      <th>membership_expire_date</th>\n",
       "      <th>is_cancel</th>\n",
       "    </tr>\n",
       "  </thead>\n",
       "  <tbody>\n",
       "    <tr>\n",
       "      <th>0</th>\n",
       "      <td>waLDQMmcOu2jLDaV1ddDkgCrB/jl6sD66Xzs0Vqax1Y=</td>\n",
       "      <td>1</td>\n",
       "      <td>2.0</td>\n",
       "      <td>18.0</td>\n",
       "      <td>36.0</td>\n",
       "      <td>2.0</td>\n",
       "      <td>9.0</td>\n",
       "      <td>20050406.0</td>\n",
       "      <td>20170907.0</td>\n",
       "      <td>2.0</td>\n",
       "      <td>38.0</td>\n",
       "      <td>30.0</td>\n",
       "      <td>149.0</td>\n",
       "      <td>149.0</td>\n",
       "      <td>0.0</td>\n",
       "      <td>20170107.0</td>\n",
       "      <td>20170206.0</td>\n",
       "      <td>0.0</td>\n",
       "    </tr>\n",
       "    <tr>\n",
       "      <th>1</th>\n",
       "      <td>QA7uiXy8vIbUSPOkCf9RwQ3FsT8jVq2OxDr8zqa7bRQ=</td>\n",
       "      <td>1</td>\n",
       "      <td>20.0</td>\n",
       "      <td>10.0</td>\n",
       "      <td>38.0</td>\n",
       "      <td>1.0</td>\n",
       "      <td>9.0</td>\n",
       "      <td>20050407.0</td>\n",
       "      <td>20170321.0</td>\n",
       "      <td>10.0</td>\n",
       "      <td>39.0</td>\n",
       "      <td>30.0</td>\n",
       "      <td>149.0</td>\n",
       "      <td>149.0</td>\n",
       "      <td>1.0</td>\n",
       "      <td>20161130.0</td>\n",
       "      <td>20170121.0</td>\n",
       "      <td>0.0</td>\n",
       "    </tr>\n",
       "    <tr>\n",
       "      <th>2</th>\n",
       "      <td>fGwBva6hikQmTJzrbz/2Ezjm5Cth5jZUNvXigKK2AFA=</td>\n",
       "      <td>1</td>\n",
       "      <td>5.0</td>\n",
       "      <td>11.0</td>\n",
       "      <td>27.0</td>\n",
       "      <td>2.0</td>\n",
       "      <td>9.0</td>\n",
       "      <td>20051016.0</td>\n",
       "      <td>20170203.0</td>\n",
       "      <td>5.0</td>\n",
       "      <td>39.0</td>\n",
       "      <td>30.0</td>\n",
       "      <td>149.0</td>\n",
       "      <td>149.0</td>\n",
       "      <td>1.0</td>\n",
       "      <td>20170112.0</td>\n",
       "      <td>20170203.0</td>\n",
       "      <td>1.0</td>\n",
       "    </tr>\n",
       "  </tbody>\n",
       "</table>\n",
       "</div>"
      ],
      "text/plain": [
       "                                           msno  is_churn  logs_count  city  \\\n",
       "0  waLDQMmcOu2jLDaV1ddDkgCrB/jl6sD66Xzs0Vqax1Y=         1         2.0  18.0   \n",
       "1  QA7uiXy8vIbUSPOkCf9RwQ3FsT8jVq2OxDr8zqa7bRQ=         1        20.0  10.0   \n",
       "2  fGwBva6hikQmTJzrbz/2Ezjm5Cth5jZUNvXigKK2AFA=         1         5.0  11.0   \n",
       "\n",
       "     bd  gender  registered_via  registration_init_time  expiration_date  \\\n",
       "0  36.0     2.0             9.0              20050406.0       20170907.0   \n",
       "1  38.0     1.0             9.0              20050407.0       20170321.0   \n",
       "2  27.0     2.0             9.0              20051016.0       20170203.0   \n",
       "\n",
       "   trans_count  payment_method_id  payment_plan_days  plan_list_price  \\\n",
       "0          2.0               38.0               30.0            149.0   \n",
       "1         10.0               39.0               30.0            149.0   \n",
       "2          5.0               39.0               30.0            149.0   \n",
       "\n",
       "   actual_amount_paid  is_auto_renew  transaction_date  \\\n",
       "0               149.0            0.0        20170107.0   \n",
       "1               149.0            1.0        20161130.0   \n",
       "2               149.0            1.0        20170112.0   \n",
       "\n",
       "   membership_expire_date  is_cancel  \n",
       "0              20170206.0        0.0  \n",
       "1              20170121.0        0.0  \n",
       "2              20170203.0        1.0  "
      ]
     },
     "execution_count": 6,
     "metadata": {},
     "output_type": "execute_result"
    }
   ],
   "source": [
    "train.head(3)"
   ]
  },
  {
   "cell_type": "code",
   "execution_count": 7,
   "metadata": {
    "collapsed": true
   },
   "outputs": [],
   "source": [
    "# Drop expiration features\n",
    "for feat in ['transaction_date', 'membership_expire_date', 'expiration_date']:\n",
    "    train.drop(feat, axis=1, inplace=True)\n",
    "    test.drop(feat, axis=1, inplace=True)"
   ]
  },
  {
   "cell_type": "code",
   "execution_count": 8,
   "metadata": {},
   "outputs": [
    {
     "data": {
      "text/html": [
       "<div>\n",
       "<table border=\"1\" class=\"dataframe\">\n",
       "  <thead>\n",
       "    <tr style=\"text-align: right;\">\n",
       "      <th></th>\n",
       "      <th>msno</th>\n",
       "      <th>is_churn</th>\n",
       "      <th>logs_count</th>\n",
       "      <th>city</th>\n",
       "      <th>bd</th>\n",
       "      <th>gender</th>\n",
       "      <th>registered_via</th>\n",
       "      <th>registration_init_time</th>\n",
       "      <th>trans_count</th>\n",
       "      <th>payment_method_id</th>\n",
       "      <th>payment_plan_days</th>\n",
       "      <th>plan_list_price</th>\n",
       "      <th>actual_amount_paid</th>\n",
       "      <th>is_auto_renew</th>\n",
       "      <th>is_cancel</th>\n",
       "    </tr>\n",
       "  </thead>\n",
       "  <tbody>\n",
       "    <tr>\n",
       "      <th>0</th>\n",
       "      <td>waLDQMmcOu2jLDaV1ddDkgCrB/jl6sD66Xzs0Vqax1Y=</td>\n",
       "      <td>1</td>\n",
       "      <td>2.0</td>\n",
       "      <td>18.0</td>\n",
       "      <td>36.0</td>\n",
       "      <td>2.0</td>\n",
       "      <td>9.0</td>\n",
       "      <td>20050406.0</td>\n",
       "      <td>2.0</td>\n",
       "      <td>38.0</td>\n",
       "      <td>30.0</td>\n",
       "      <td>149.0</td>\n",
       "      <td>149.0</td>\n",
       "      <td>0.0</td>\n",
       "      <td>0.0</td>\n",
       "    </tr>\n",
       "    <tr>\n",
       "      <th>1</th>\n",
       "      <td>QA7uiXy8vIbUSPOkCf9RwQ3FsT8jVq2OxDr8zqa7bRQ=</td>\n",
       "      <td>1</td>\n",
       "      <td>20.0</td>\n",
       "      <td>10.0</td>\n",
       "      <td>38.0</td>\n",
       "      <td>1.0</td>\n",
       "      <td>9.0</td>\n",
       "      <td>20050407.0</td>\n",
       "      <td>10.0</td>\n",
       "      <td>39.0</td>\n",
       "      <td>30.0</td>\n",
       "      <td>149.0</td>\n",
       "      <td>149.0</td>\n",
       "      <td>1.0</td>\n",
       "      <td>0.0</td>\n",
       "    </tr>\n",
       "    <tr>\n",
       "      <th>2</th>\n",
       "      <td>fGwBva6hikQmTJzrbz/2Ezjm5Cth5jZUNvXigKK2AFA=</td>\n",
       "      <td>1</td>\n",
       "      <td>5.0</td>\n",
       "      <td>11.0</td>\n",
       "      <td>27.0</td>\n",
       "      <td>2.0</td>\n",
       "      <td>9.0</td>\n",
       "      <td>20051016.0</td>\n",
       "      <td>5.0</td>\n",
       "      <td>39.0</td>\n",
       "      <td>30.0</td>\n",
       "      <td>149.0</td>\n",
       "      <td>149.0</td>\n",
       "      <td>1.0</td>\n",
       "      <td>1.0</td>\n",
       "    </tr>\n",
       "  </tbody>\n",
       "</table>\n",
       "</div>"
      ],
      "text/plain": [
       "                                           msno  is_churn  logs_count  city  \\\n",
       "0  waLDQMmcOu2jLDaV1ddDkgCrB/jl6sD66Xzs0Vqax1Y=         1         2.0  18.0   \n",
       "1  QA7uiXy8vIbUSPOkCf9RwQ3FsT8jVq2OxDr8zqa7bRQ=         1        20.0  10.0   \n",
       "2  fGwBva6hikQmTJzrbz/2Ezjm5Cth5jZUNvXigKK2AFA=         1         5.0  11.0   \n",
       "\n",
       "     bd  gender  registered_via  registration_init_time  trans_count  \\\n",
       "0  36.0     2.0             9.0              20050406.0          2.0   \n",
       "1  38.0     1.0             9.0              20050407.0         10.0   \n",
       "2  27.0     2.0             9.0              20051016.0          5.0   \n",
       "\n",
       "   payment_method_id  payment_plan_days  plan_list_price  actual_amount_paid  \\\n",
       "0               38.0               30.0            149.0               149.0   \n",
       "1               39.0               30.0            149.0               149.0   \n",
       "2               39.0               30.0            149.0               149.0   \n",
       "\n",
       "   is_auto_renew  is_cancel  \n",
       "0            0.0        0.0  \n",
       "1            1.0        0.0  \n",
       "2            1.0        1.0  "
      ]
     },
     "execution_count": 8,
     "metadata": {},
     "output_type": "execute_result"
    }
   ],
   "source": [
    "train.head(3)"
   ]
  },
  {
   "cell_type": "markdown",
   "metadata": {},
   "source": [
    "## XGBOOST"
   ]
  },
  {
   "cell_type": "code",
   "execution_count": 11,
   "metadata": {
    "collapsed": true
   },
   "outputs": [],
   "source": [
    "train = train.fillna(0)\n",
    "test = test.fillna(0)\n",
    "\n",
    "cols = [c for c in train.columns if c not in ['is_churn','msno']]"
   ]
  },
  {
   "cell_type": "code",
   "execution_count": 12,
   "metadata": {},
   "outputs": [
    {
     "name": "stdout",
     "output_type": "stream",
     "text": [
      "<class 'pandas.core.frame.DataFrame'>\n",
      "Int64Index: 992931 entries, 0 to 992930\n",
      "Data columns (total 15 columns):\n",
      "msno                      992931 non-null object\n",
      "is_churn                  992931 non-null int64\n",
      "logs_count                992931 non-null float64\n",
      "city                      992931 non-null float64\n",
      "bd                        992931 non-null float64\n",
      "gender                    992931 non-null float64\n",
      "registered_via            992931 non-null float64\n",
      "registration_init_time    992931 non-null float64\n",
      "trans_count               992931 non-null float64\n",
      "payment_method_id         992931 non-null float64\n",
      "payment_plan_days         992931 non-null float64\n",
      "plan_list_price           992931 non-null float64\n",
      "actual_amount_paid        992931 non-null float64\n",
      "is_auto_renew             992931 non-null float64\n",
      "is_cancel                 992931 non-null float64\n",
      "dtypes: float64(13), int64(1), object(1)\n",
      "memory usage: 121.2+ MB\n"
     ]
    }
   ],
   "source": [
    "train.info()"
   ]
  },
  {
   "cell_type": "code",
   "execution_count": 9,
   "metadata": {
    "collapsed": true
   },
   "outputs": [],
   "source": [
    "def xgb_score(preds, dtrain):\n",
    "    labels = dtrain.get_label()\n",
    "    return 'log_loss', metrics.log_loss(labels, preds)"
   ]
  },
  {
   "cell_type": "code",
   "execution_count": 13,
   "metadata": {},
   "outputs": [
    {
     "name": "stdout",
     "output_type": "stream",
     "text": [
      "[0]\ttrain-log_loss:0.67718\tvalid-log_loss:0.677205\n",
      "Multiple eval metrics have been passed: 'valid-log_loss' will be used for early stopping.\n",
      "\n",
      "Will train until valid-log_loss hasn't improved in 50 rounds.\n",
      "[50]\ttrain-log_loss:0.29988\tvalid-log_loss:0.300796\n",
      "[100]\ttrain-log_loss:0.207834\tvalid-log_loss:0.209418\n"
     ]
    }
   ],
   "source": [
    "fold = 1\n",
    "for i in range(fold):\n",
    "    params = {\n",
    "        'eta': 0.02, #use 0.002\n",
    "        'max_depth': 7,\n",
    "        'objective': 'binary:logistic',\n",
    "        'eval_metric': 'logloss',\n",
    "        'seed': i,\n",
    "        'silent': True\n",
    "    }\n",
    "    x1, x2, y1, y2 = model_selection.train_test_split(train[cols], train['is_churn'], test_size=0.3, random_state=i)\n",
    "    watchlist = [(xgb.DMatrix(x1, y1), 'train'), (xgb.DMatrix(x2, y2), 'valid')]\n",
    "    model = xgb.train(params, xgb.DMatrix(x1, y1), 150,  watchlist, feval=xgb_score, maximize=False, verbose_eval=50, early_stopping_rounds=50) #use 1500\n",
    "    if i != 0:\n",
    "        pred += model.predict(xgb.DMatrix(test[cols]), ntree_limit=model.best_ntree_limit)\n",
    "    else:\n",
    "        pred = model.predict(xgb.DMatrix(test[cols]), ntree_limit=model.best_ntree_limit)\n",
    "pred /= fold\n",
    "test['is_churn'] = pred.clip(0.0000001, 0.999999)"
   ]
  },
  {
   "cell_type": "code",
   "execution_count": 15,
   "metadata": {},
   "outputs": [],
   "source": [
    "test[['msno','is_churn']].to_csv('submission3.csv', index=False)"
   ]
  }
 ],
 "metadata": {
  "kernelspec": {
   "display_name": "Python 3",
   "language": "python",
   "name": "python3"
  },
  "language_info": {
   "codemirror_mode": {
    "name": "ipython",
    "version": 3
   },
   "file_extension": ".py",
   "mimetype": "text/x-python",
   "name": "python",
   "nbconvert_exporter": "python",
   "pygments_lexer": "ipython3",
   "version": "3.5.2"
  }
 },
 "nbformat": 4,
 "nbformat_minor": 2
}
