{
 "cells": [
  {
   "cell_type": "code",
   "execution_count": 2,
   "metadata": {},
   "outputs": [
    {
     "name": "stderr",
     "output_type": "stream",
     "text": [
      "/home/kaih/.local/lib/python3.5/site-packages/sklearn/cross_validation.py:41: DeprecationWarning: This module was deprecated in version 0.18 in favor of the model_selection module into which all the refactored classes and functions are moved. Also note that the interface of the new CV iterators are different from that of this module. This module will be removed in 0.20.\n",
      "  \"This module will be removed in 0.20.\", DeprecationWarning)\n"
     ]
    }
   ],
   "source": [
    "import xgboost as xgb\n",
    "import pandas as pd\n",
    "import numpy as np\n",
    "import matplotlib.pyplot as plt\n",
    "%matplotlib inline \n",
    "import glob"
   ]
  },
  {
   "cell_type": "code",
   "execution_count": 9,
   "metadata": {
    "collapsed": true
   },
   "outputs": [],
   "source": [
    "train = pd.read_csv('../../../data/raw/train.csv')\n",
    "test = pd.read_csv('../../../data/raw/sample_submission_zero.csv')\n",
    "members = pd.read_csv('../../../data/raw/members.csv')"
   ]
  },
  {
   "cell_type": "code",
   "execution_count": 10,
   "metadata": {
    "collapsed": true
   },
   "outputs": [],
   "source": [
    "aggtrain = pd.read_csv('../../results/aggtrain.csv',header=0)"
   ]
  },
  {
   "cell_type": "code",
   "execution_count": 11,
   "metadata": {
    "collapsed": true
   },
   "outputs": [],
   "source": [
    "aggtest = pd.read_csv('../../results/aggtest.csv')"
   ]
  },
  {
   "cell_type": "code",
   "execution_count": 12,
   "metadata": {
    "collapsed": true
   },
   "outputs": [],
   "source": [
    "aggtrain =aggtrain.fillna(0)\n",
    "aggtest=aggtest.fillna(0)"
   ]
  },
  {
   "cell_type": "code",
   "execution_count": 17,
   "metadata": {
    "collapsed": true
   },
   "outputs": [],
   "source": [
    "continuous_features = [\n",
    "    'bd',\n",
    "                       'avg(payment_plan_days)',\n",
    "                       'avg(plan_list_price)',\n",
    "                       'avg(actual_amount_paid)',\n",
    "                       'avg(num_100)',\n",
    "                       'avg(num_25)',\n",
    "                       'avg(num_75)',\n",
    "                       'avg(num_unq)',\n",
    "                       'avg(num_50)',\n",
    "                       'avg(num_985)',\n",
    "                       'avg(total_secs)'\n",
    "]\n",
    "categorical_features = [\n",
    "    'city',\n",
    "                       'gender',\n",
    "                       'registered_via',\n",
    "                       '_c0',\n",
    "                       'max(is_cancel)',\n",
    "                       'min(is_auto_renew)'\n",
    "]\n"
   ]
  },
  {
   "cell_type": "code",
   "execution_count": 18,
   "metadata": {
    "collapsed": true
   },
   "outputs": [],
   "source": [
    "from sklearn.preprocessing import LabelEncoder\n",
    "from sklearn.model_selection import train_test_split\n",
    "le = LabelEncoder()\n",
    "for i in categorical_features:\n",
    "    aggtrain[i] = le.fit_transform(aggtrain[i].apply(str).values)\n",
    "    aggtest[i] = le.fit_transform(aggtest[i].apply(str).values)"
   ]
  },
  {
   "cell_type": "code",
   "execution_count": 19,
   "metadata": {
    "collapsed": true
   },
   "outputs": [],
   "source": [
    "X = aggtrain[categorical_features+continuous_features]\n",
    "y = aggtrain.is_churn"
   ]
  },
  {
   "cell_type": "code",
   "execution_count": 20,
   "metadata": {
    "collapsed": true
   },
   "outputs": [],
   "source": [
    "from sklearn.metrics import log_loss\n",
    "def xgb_score(preds, dtrain):\n",
    "    labels = dtrain.get_label()\n",
    "    return 'log_loss', log_loss(labels, preds)"
   ]
  },
  {
   "cell_type": "code",
   "execution_count": 25,
   "metadata": {},
   "outputs": [
    {
     "name": "stdout",
     "output_type": "stream",
     "text": [
      "[0]\ttrain-log_loss:0.652451\tvalid-log_loss:0.652572\n",
      "Multiple eval metrics have been passed: 'valid-log_loss' will be used for early stopping.\n",
      "\n",
      "Will train until valid-log_loss hasn't improved in 50 rounds.\n",
      "[50]\ttrain-log_loss:0.153515\tvalid-log_loss:0.159285\n",
      "[100]\ttrain-log_loss:0.122428\tvalid-log_loss:0.134232\n",
      "[0]\ttrain-log_loss:0.652474\tvalid-log_loss:0.652575\n",
      "Multiple eval metrics have been passed: 'valid-log_loss' will be used for early stopping.\n",
      "\n",
      "Will train until valid-log_loss hasn't improved in 50 rounds.\n",
      "[50]\ttrain-log_loss:0.153462\tvalid-log_loss:0.15925\n",
      "[100]\ttrain-log_loss:0.122615\tvalid-log_loss:0.134184\n",
      "[0]\ttrain-log_loss:0.652453\tvalid-log_loss:0.652557\n",
      "Multiple eval metrics have been passed: 'valid-log_loss' will be used for early stopping.\n",
      "\n",
      "Will train until valid-log_loss hasn't improved in 50 rounds.\n",
      "[50]\ttrain-log_loss:0.153626\tvalid-log_loss:0.159135\n",
      "[100]\ttrain-log_loss:0.122941\tvalid-log_loss:0.134148\n"
     ]
    }
   ],
   "source": [
    "fold = 3\n",
    "round = 0\n",
    "for i in np.random.randint(1,1000,fold):\n",
    "\n",
    "    params = {\n",
    "    #     'eta': 0.05,\n",
    "        'learning_rate': 0.05, # use smaller learning rate to prevent overfit?\n",
    "#         'gamma': 0,\n",
    "        'max_depth': 10,\n",
    "        'n_estimators': 100,\n",
    "        #'random_state': 850564,\n",
    "        'min_child_weight': 1,\n",
    "        'objective': 'binary:logistic',\n",
    "#                 'eta': 0.02, #use 0.002\n",
    "        'eval_metric': 'logloss',\n",
    "        'seed': i,\n",
    "        'silent': True,\n",
    "    #     booster='gbtree',\n",
    "    #     n_jobs=1, \n",
    "        'nthread': 2,\n",
    "    #     max_delta_step=0, \n",
    "    #     subsample=1, \n",
    "    #     colsample_bytree=1,\n",
    "    #     colsample_bylevel=1, \n",
    "    #     reg_alpha=0,\n",
    "    #     reg_lambda=1, \n",
    "    #     scale_pos_weight=1,\n",
    "    #     base_score=0.5,\n",
    "    #     random_state=0,\n",
    "    #     seed=None, \n",
    "    #     missing=None, \n",
    "    }\n",
    "    x1, x2, y1, y2 = train_test_split(X, y, test_size=0.33, random_state=i)\n",
    "    watchlist = [(xgb.DMatrix(x1, y1), 'train'), (xgb.DMatrix(x2, y2), 'valid')]\n",
    "    model = xgb.train(params, xgb.DMatrix(x1, y1), 150,  watchlist, feval=xgb_score, maximize=False, verbose_eval=50, early_stopping_rounds=50)\n",
    "    if round != 0:\n",
    "        pred += model.predict(xgb.DMatrix(aggtest[categorical_features+continuous_features]), ntree_limit=model.best_ntree_limit)\n",
    "    else:\n",
    "        pred = model.predict(xgb.DMatrix(aggtest[categorical_features+continuous_features]), ntree_limit=model.best_ntree_limit)\n",
    "    round += 1\n",
    "pred /= fold\n",
    "test['is_churn'] = pred.clip(0.0000001, 0.999999)"
   ]
  },
  {
   "cell_type": "code",
   "execution_count": 26,
   "metadata": {
    "collapsed": true
   },
   "outputs": [],
   "source": [
    "test.to_csv('../../results/xgbsubmission.csv')"
   ]
  },
  {
   "cell_type": "code",
   "execution_count": null,
   "metadata": {
    "collapsed": true
   },
   "outputs": [],
   "source": []
  }
 ],
 "metadata": {
  "kernelspec": {
   "display_name": "Python 3",
   "language": "python",
   "name": "python3"
  },
  "language_info": {
   "codemirror_mode": {
    "name": "ipython",
    "version": 3
   },
   "file_extension": ".py",
   "mimetype": "text/x-python",
   "name": "python",
   "nbconvert_exporter": "python",
   "pygments_lexer": "ipython3",
   "version": "3.5.2"
  }
 },
 "nbformat": 4,
 "nbformat_minor": 2
}
