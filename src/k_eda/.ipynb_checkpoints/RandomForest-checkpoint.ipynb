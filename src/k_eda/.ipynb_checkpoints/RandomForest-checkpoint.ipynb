{
 "cells": [
  {
   "cell_type": "code",
   "execution_count": 1,
   "metadata": {},
   "outputs": [
    {
     "name": "stderr",
     "output_type": "stream",
     "text": [
      "/home/kaih/.local/lib/python3.5/site-packages/sklearn/cross_validation.py:41: DeprecationWarning: This module was deprecated in version 0.18 in favor of the model_selection module into which all the refactored classes and functions are moved. Also note that the interface of the new CV iterators are different from that of this module. This module will be removed in 0.20.\n",
      "  \"This module will be removed in 0.20.\", DeprecationWarning)\n",
      "/home/kaih/.local/lib/python3.5/site-packages/sklearn/grid_search.py:42: DeprecationWarning: This module was deprecated in version 0.18 in favor of the model_selection module into which all the refactored classes and functions are moved. This module will be removed in 0.20.\n",
      "  DeprecationWarning)\n",
      "/home/kaih/.local/lib/python3.5/site-packages/sklearn/learning_curve.py:22: DeprecationWarning: This module was deprecated in version 0.18 in favor of the model_selection module into which all the functions are moved. This module will be removed in 0.20\n",
      "  DeprecationWarning)\n"
     ]
    }
   ],
   "source": [
    "import xgboost as xgb\n",
    "import pandas as pd\n",
    "import numpy as np\n",
    "import matplotlib.pyplot as plt\n",
    "%matplotlib inline \n",
    "import glob\n",
    "\n",
    "from multiprocessing import Pool, cpu_count\n",
    "import gc; gc.enable()\n",
    "import xgboost as xgb\n",
    "import pandas as pd\n",
    "import numpy as np\n",
    "from sklearn import *\n",
    "import sklearn"
   ]
  },
  {
   "cell_type": "code",
   "execution_count": 2,
   "metadata": {
    "collapsed": true
   },
   "outputs": [],
   "source": [
    "aggtrain = pd.read_csv('../../results/aggtrain.csv',header=0)\n",
    "aggtest = pd.read_csv('../../results/aggtest.csv',header=0)\n",
    "train = pd.read_csv('../../../data/raw/train.csv')\n",
    "test = pd.read_csv('../../../data/raw/sample_submission_zero.csv')\n",
    "members = pd.read_csv('../../../data/raw/members.csv')"
   ]
  },
  {
   "cell_type": "code",
   "execution_count": 3,
   "metadata": {
    "collapsed": true
   },
   "outputs": [],
   "source": [
    "continuous_features = [\n",
    "    'bd',\n",
    "                       'avg(payment_plan_days)',\n",
    "                       'avg(plan_list_price)',\n",
    "                       'avg(actual_amount_paid)',\n",
    "                       'max(num_100)',\n",
    "                       'max(num_25)',\n",
    "                       'max(num_75)',\n",
    "                       'max(num_unq)',\n",
    "                       'max(num_50)',\n",
    "                       'max(num_985)',\n",
    "                       'max(total_secs)',\n",
    "        'count(transaction_date)', # num transactions\n",
    "    'count(date)' # num logs\n",
    "]\n",
    "\n",
    "categorical_features = [\n",
    "    'city',\n",
    "                       'gender',\n",
    "                       'registered_via',\n",
    "#                        '_c0',\n",
    "                       'max(is_cancel)',\n",
    "                       'min(is_auto_renew)'\n",
    "\n",
    "]\n"
   ]
  },
  {
   "cell_type": "code",
   "execution_count": 6,
   "metadata": {},
   "outputs": [],
   "source": [
    "aggtrain_enc = aggtrain[categorical_features+continuous_features+['is_churn']]\n",
    "aggtest_enc = aggtest[categorical_features+continuous_features+['is_churn']]\n",
    "\n",
    "aggtrain_enc =aggtrain_enc.fillna(-1)\n",
    "aggtest_enc=aggtest_enc.fillna(-1)\n",
    "for i in categorical_features:\n",
    "    aggtrain_enc[i] = aggtrain[i].astype('category')\n",
    "    aggtest_enc[i] = aggtest[i].astype('category')"
   ]
  },
  {
   "cell_type": "code",
   "execution_count": 7,
   "metadata": {},
   "outputs": [],
   "source": [
    "from sklearn.ensemble import RandomForestRegressor\n",
    "from sklearn.linear_model import LinearRegression\n",
    "from sklearn.model_selection import cross_val_predict\n",
    "aggtrain_enc = pd.get_dummies(aggtrain_enc)\n",
    "aggtest_enc = pd.get_dummies(aggtest_enc)\n",
    "\n",
    "Xtrain_enc = aggtrain_enc.loc[:, aggtrain_enc.columns != 'is_churn']\n",
    "Xtest_enc = aggtest_enc.loc[:, aggtest_enc.columns != 'is_churn']\n",
    "# y = np.asarray(aggtrain_enc['is_churn'], dtype=\"float64\")\n",
    "y = aggtrain.is_churn"
   ]
  },
  {
   "cell_type": "code",
   "execution_count": 16,
   "metadata": {},
   "outputs": [
    {
     "data": {
      "text/plain": [
       "RandomForestRegressor(bootstrap=True, criterion='mse', max_depth=5,\n",
       "           max_features='auto', max_leaf_nodes=None,\n",
       "           min_impurity_decrease=0.0, min_impurity_split=None,\n",
       "           min_samples_leaf=1, min_samples_split=2,\n",
       "           min_weight_fraction_leaf=0.0, n_estimators=100, n_jobs=-1,\n",
       "           oob_score=False, random_state=0, verbose=0, warm_start=False)"
      ]
     },
     "execution_count": 16,
     "metadata": {},
     "output_type": "execute_result"
    }
   ],
   "source": [
    "rf = RandomForestRegressor(n_estimators=100,\n",
    "                           n_jobs=-1,\n",
    "                           bootstrap=True, \n",
    "                           criterion='mse', \n",
    "                           max_depth=5,\n",
    "                           max_features='auto', \n",
    "                           max_leaf_nodes=None,\n",
    "                           min_impurity_decrease=0.0,\n",
    "                           min_impurity_split=None,\n",
    "                           min_samples_leaf=1, \n",
    "                           min_samples_split=2,\n",
    "                           min_weight_fraction_leaf=0.0,\n",
    "                           oob_score=False, \n",
    "                           random_state=0,\n",
    "                           verbose=0, \n",
    "                           warm_start=False)\n",
    "rf.fit(Xtrain_enc,y)"
   ]
  },
  {
   "cell_type": "code",
   "execution_count": 17,
   "metadata": {},
   "outputs": [
    {
     "name": "stderr",
     "output_type": "stream",
     "text": [
      "/usr/local/lib/python3.5/dist-packages/ipykernel_launcher.py:3: SettingWithCopyWarning: \n",
      "A value is trying to be set on a copy of a slice from a DataFrame.\n",
      "Try using .loc[row_indexer,col_indexer] = value instead\n",
      "\n",
      "See the caveats in the documentation: http://pandas.pydata.org/pandas-docs/stable/indexing.html#indexing-view-versus-copy\n",
      "  This is separate from the ipykernel package so we can avoid doing imports until\n"
     ]
    }
   ],
   "source": [
    "rfpred=rf.predict(Xtest_enc)\n",
    "rfprediction=aggtest[['msno','is_churn']]\n",
    "rfprediction['is_churn'] = rfpred.clip(0.0000001, 0.999999)"
   ]
  },
  {
   "cell_type": "code",
   "execution_count": 18,
   "metadata": {
    "collapsed": true
   },
   "outputs": [],
   "source": [
    "rfprediction.to_csv('../../results/rfsubmission.csv')"
   ]
  },
  {
   "cell_type": "code",
   "execution_count": 19,
   "metadata": {
    "collapsed": true
   },
   "outputs": [],
   "source": [
    "import pickle"
   ]
  },
  {
   "cell_type": "code",
   "execution_count": 20,
   "metadata": {},
   "outputs": [],
   "source": [
    "filename = '../../models/rf_depth5nest100leaf1.sav'\n",
    "pickle.dump(rf, open(filename, 'wb'))"
   ]
  },
  {
   "cell_type": "code",
   "execution_count": null,
   "metadata": {
    "collapsed": true
   },
   "outputs": [],
   "source": []
  }
 ],
 "metadata": {
  "kernelspec": {
   "display_name": "Python 3",
   "language": "python",
   "name": "python3"
  },
  "language_info": {
   "codemirror_mode": {
    "name": "ipython",
    "version": 3
   },
   "file_extension": ".py",
   "mimetype": "text/x-python",
   "name": "python",
   "nbconvert_exporter": "python",
   "pygments_lexer": "ipython3",
   "version": "3.5.2"
  }
 },
 "nbformat": 4,
 "nbformat_minor": 2
}
